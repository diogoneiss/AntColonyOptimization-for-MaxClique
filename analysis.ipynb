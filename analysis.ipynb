{
 "cells": [
  {
   "cell_type": "code",
   "execution_count": 1,
   "metadata": {},
   "outputs": [],
   "source": [
    "import pandas as pd\n",
    "import numpy as np\n",
    "import matplotlib.pyplot as plt\n",
    "import seaborn as sns\n",
    "import itertools"
   ]
  },
  {
   "cell_type": "code",
   "execution_count": 2,
   "metadata": {},
   "outputs": [
    {
     "name": "stdout",
     "output_type": "stream",
     "text": [
      "Total combinations for experimentation: 7200\n"
     ]
    }
   ],
   "source": [
    "random_runs = 50\n",
    "ants_per_vertex = [0.02, 0.05, 0.06, 0.07 ]\n",
    "max_cycles = [10, 50, 100, 500, 1000]\n",
    "tau_min = [0.01, 0.1, 0.5]\n",
    "tau_max = [2, 3, 6, 8]\n",
    "alpha = [0, 0.75, 0.98, 1, 1.1, 2]\n",
    "evaporation_rate = [0.8, 0.9, 0.95, 0.98, 0.99]\n",
    "\n",
    "parameters = [ants_per_vertex, max_cycles, tau_min, tau_max, alpha, evaporation_rate]\n",
    "\n",
    "# itertools.product to generate all combinations of parameters\n",
    "combinations = itertools.product(*parameters)\n",
    "list_of_parameters = list(combinations)\n",
    "\n",
    "\n",
    "print(f\"Total combinations for experimentation: {len(list_of_parameters)}\")"
   ]
  },
  {
   "cell_type": "code",
   "execution_count": 10,
   "metadata": {},
   "outputs": [
    {
     "name": "stdout",
     "output_type": "stream",
     "text": [
      "<class 'pandas.core.frame.DataFrame'>\n",
      "RangeIndex: 5476 entries, 0 to 5475\n",
      "Data columns (total 11 columns):\n",
      " #   Column                     Non-Null Count  Dtype  \n",
      "---  ------                     --------------  -----  \n",
      " 0   file                       5476 non-null   object \n",
      " 1   best_clique                5476 non-null   float64\n",
      " 2   ants_per_v                 5476 non-null   float64\n",
      " 3   final_std                  5476 non-null   float64\n",
      " 4   alpha                      5476 non-null   float64\n",
      " 5   tmin                       5476 non-null   float64\n",
      " 6   tmax                       5476 non-null   float64\n",
      " 7   maxCycles                  5476 non-null   int64  \n",
      " 8   evaporation_rate           5476 non-null   float64\n",
      " 9   p_runs_away_from_maximum   5476 non-null   float64\n",
      " 10  iterations_to_reach_80pct  5476 non-null   int64  \n",
      "dtypes: float64(8), int64(2), object(1)\n",
      "memory usage: 470.7+ KB\n"
     ]
    }
   ],
   "source": [
    "file = 'cache.csv'\n",
    "\n",
    "df = pd.read_csv(file)\n",
    "\n",
    "df.info()"
   ]
  },
  {
   "attachments": {},
   "cell_type": "markdown",
   "metadata": {},
   "source": [
    "### Ver os parametros de um dado batch"
   ]
  },
  {
   "cell_type": "code",
   "execution_count": 5,
   "metadata": {},
   "outputs": [
    {
     "data": {
      "text/plain": [
       "[(0.06, 500, 0.5, 6, 1.1, 0.8),\n",
       " (0.06, 500, 0.5, 6, 1.1, 0.9),\n",
       " (0.06, 500, 0.5, 6, 1.1, 0.95),\n",
       " (0.06, 500, 0.5, 6, 1.1, 0.98),\n",
       " (0.06, 500, 0.5, 6, 1.1, 0.99),\n",
       " (0.06, 500, 0.5, 6, 2, 0.8),\n",
       " (0.06, 500, 0.5, 6, 2, 0.9),\n",
       " (0.06, 500, 0.5, 6, 2, 0.95),\n",
       " (0.06, 500, 0.5, 6, 2, 0.98),\n",
       " (0.06, 500, 0.5, 6, 2, 0.99)]"
      ]
     },
     "execution_count": 5,
     "metadata": {},
     "output_type": "execute_result"
    }
   ],
   "source": [
    "def view_batch_params(batch_number, total_cores=10):\n",
    "    return list_of_parameters[total_cores*batch_number:total_cores*(batch_number+1)]\n",
    "\n",
    "view_batch_params(500)"
   ]
  },
  {
   "cell_type": "code",
   "execution_count": 6,
   "metadata": {},
   "outputs": [
    {
     "data": {
      "text/html": [
       "<div>\n",
       "<style scoped>\n",
       "    .dataframe tbody tr th:only-of-type {\n",
       "        vertical-align: middle;\n",
       "    }\n",
       "\n",
       "    .dataframe tbody tr th {\n",
       "        vertical-align: top;\n",
       "    }\n",
       "\n",
       "    .dataframe thead th {\n",
       "        text-align: right;\n",
       "    }\n",
       "</style>\n",
       "<table border=\"1\" class=\"dataframe\">\n",
       "  <thead>\n",
       "    <tr style=\"text-align: right;\">\n",
       "      <th></th>\n",
       "      <th>file</th>\n",
       "      <th>best_clique</th>\n",
       "      <th>ants_per_v</th>\n",
       "      <th>final_std</th>\n",
       "      <th>alpha</th>\n",
       "      <th>tmin</th>\n",
       "      <th>tmax</th>\n",
       "      <th>maxCycles</th>\n",
       "      <th>evaporation_rate</th>\n",
       "      <th>p_runs_away_from_maximum</th>\n",
       "      <th>iterations_to_reach_80pct</th>\n",
       "    </tr>\n",
       "  </thead>\n",
       "  <tbody>\n",
       "    <tr>\n",
       "      <th>3</th>\n",
       "      <td>easy</td>\n",
       "      <td>10.0</td>\n",
       "      <td>0.02</td>\n",
       "      <td>0.538516</td>\n",
       "      <td>0.0</td>\n",
       "      <td>0.01</td>\n",
       "      <td>2.0</td>\n",
       "      <td>10</td>\n",
       "      <td>0.80</td>\n",
       "      <td>0.9</td>\n",
       "      <td>10</td>\n",
       "    </tr>\n",
       "    <tr>\n",
       "      <th>4</th>\n",
       "      <td>easy</td>\n",
       "      <td>10.0</td>\n",
       "      <td>0.02</td>\n",
       "      <td>0.538516</td>\n",
       "      <td>0.0</td>\n",
       "      <td>0.01</td>\n",
       "      <td>2.0</td>\n",
       "      <td>10</td>\n",
       "      <td>0.90</td>\n",
       "      <td>0.9</td>\n",
       "      <td>10</td>\n",
       "    </tr>\n",
       "    <tr>\n",
       "      <th>5</th>\n",
       "      <td>easy</td>\n",
       "      <td>10.0</td>\n",
       "      <td>0.02</td>\n",
       "      <td>0.538516</td>\n",
       "      <td>0.0</td>\n",
       "      <td>0.01</td>\n",
       "      <td>2.0</td>\n",
       "      <td>10</td>\n",
       "      <td>0.95</td>\n",
       "      <td>0.9</td>\n",
       "      <td>10</td>\n",
       "    </tr>\n",
       "    <tr>\n",
       "      <th>6</th>\n",
       "      <td>easy</td>\n",
       "      <td>10.0</td>\n",
       "      <td>0.02</td>\n",
       "      <td>0.538516</td>\n",
       "      <td>0.0</td>\n",
       "      <td>0.01</td>\n",
       "      <td>2.0</td>\n",
       "      <td>10</td>\n",
       "      <td>0.98</td>\n",
       "      <td>0.9</td>\n",
       "      <td>10</td>\n",
       "    </tr>\n",
       "    <tr>\n",
       "      <th>7</th>\n",
       "      <td>easy</td>\n",
       "      <td>10.0</td>\n",
       "      <td>0.02</td>\n",
       "      <td>0.538516</td>\n",
       "      <td>0.0</td>\n",
       "      <td>0.01</td>\n",
       "      <td>2.0</td>\n",
       "      <td>10</td>\n",
       "      <td>0.99</td>\n",
       "      <td>0.9</td>\n",
       "      <td>10</td>\n",
       "    </tr>\n",
       "  </tbody>\n",
       "</table>\n",
       "</div>"
      ],
      "text/plain": [
       "   file  best_clique  ants_per_v  final_std  alpha  tmin  tmax  maxCycles  \\\n",
       "3  easy         10.0        0.02   0.538516    0.0  0.01   2.0         10   \n",
       "4  easy         10.0        0.02   0.538516    0.0  0.01   2.0         10   \n",
       "5  easy         10.0        0.02   0.538516    0.0  0.01   2.0         10   \n",
       "6  easy         10.0        0.02   0.538516    0.0  0.01   2.0         10   \n",
       "7  easy         10.0        0.02   0.538516    0.0  0.01   2.0         10   \n",
       "\n",
       "   evaporation_rate  p_runs_away_from_maximum  iterations_to_reach_80pct  \n",
       "3              0.80                       0.9                         10  \n",
       "4              0.90                       0.9                         10  \n",
       "5              0.95                       0.9                         10  \n",
       "6              0.98                       0.9                         10  \n",
       "7              0.99                       0.9                         10  "
      ]
     },
     "execution_count": 6,
     "metadata": {},
     "output_type": "execute_result"
    }
   ],
   "source": [
    "df[df[\"file\"] != 'test'].head()"
   ]
  }
 ],
 "metadata": {
  "kernelspec": {
   "display_name": "Python 3",
   "language": "python",
   "name": "python3"
  },
  "language_info": {
   "codemirror_mode": {
    "name": "ipython",
    "version": 3
   },
   "file_extension": ".py",
   "mimetype": "text/x-python",
   "name": "python",
   "nbconvert_exporter": "python",
   "pygments_lexer": "ipython3",
   "version": "3.11.0"
  },
  "orig_nbformat": 4
 },
 "nbformat": 4,
 "nbformat_minor": 2
}
